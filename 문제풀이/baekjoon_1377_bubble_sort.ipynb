{
 "cells": [
  {
   "cell_type": "markdown",
   "id": "2bd38334",
   "metadata": {},
   "source": [
    "- 정렬 후 인덱스와 정렬 전 인덱스를 뺄셈을 해보면 음수인경우는 뒤로 이동, 양수인 경우는 앞으로 이동한 칸 수가   나온다.\n",
    "\n",
    "- 그리고 그 값들의 최대값이 버블정렬이 몇회차까지 필요한지를 나타내게 된다. 위의 예에서는 +1이 최대값이다."
   ]
  },
  {
   "cell_type": "code",
   "execution_count": null,
   "id": "a5d4a731",
   "metadata": {},
   "outputs": [],
   "source": [
    "import sys\n",
    "input = sys.stdin.readline\n",
    "\n",
    "n = int(input())\n",
    "arr = []\n",
    "for i in range(n):\n",
    "    arr.append( (int(input()), i) )\n",
    "\n",
    "sorted_arr = sorted(arr) \n",
    "answer = [] \n",
    "\n",
    "for i in range(n):\n",
    "    answer.append(sorted_arr[i][1] - arr[i][1])\n",
    "\n",
    "print(max(answer) + 1)"
   ]
  }
 ],
 "metadata": {
  "kernelspec": {
   "display_name": "Python 3",
   "language": "python",
   "name": "python3"
  },
  "language_info": {
   "codemirror_mode": {
    "name": "ipython",
    "version": 3
   },
   "file_extension": ".py",
   "mimetype": "text/x-python",
   "name": "python",
   "nbconvert_exporter": "python",
   "pygments_lexer": "ipython3",
   "version": "3.8.8"
  }
 },
 "nbformat": 4,
 "nbformat_minor": 5
}
