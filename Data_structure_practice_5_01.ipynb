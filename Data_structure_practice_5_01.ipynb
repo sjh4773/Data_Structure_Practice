{
 "cells": [
  {
   "cell_type": "code",
   "execution_count": 29,
   "metadata": {},
   "outputs": [
    {
     "name": "stdout",
     "output_type": "stream",
     "text": [
      "숫자를 입력하세요 : 9\n",
      "숫자를 입력하세요 : 48\n",
      "숫자를 입력하세요 : 654\n",
      "숫자를 입력하세요 : 15\n",
      "숫자를 입력하세요 : 489\n"
     ]
    }
   ],
   "source": [
    "num = 0\n",
    "list = []\n",
    "\n",
    "while num < 5:\n",
    "    num_input = int(input(\"숫자를 입력하세요 : \"))\n",
    "    list.append(num_input)\n",
    "    num+=1"
   ]
  },
  {
   "cell_type": "code",
   "execution_count": 31,
   "metadata": {},
   "outputs": [
    {
     "name": "stdout",
     "output_type": "stream",
     "text": [
      "[9, 15, 48, 489, 654]\n"
     ]
    }
   ],
   "source": [
    "for j in range(len(list) - 1):\n",
    "    for i in range(len(list) - 1):\n",
    "        if list[i] >= list[i + 1]:\n",
    "           list[i], list[i+1] = list[i+1], list[i]\n",
    "        \n",
    "print(list)\n",
    "\n",
    "  \n",
    "    "
   ]
  }
 ],
 "metadata": {
  "kernelspec": {
   "display_name": "Python 3",
   "language": "python",
   "name": "python3"
  },
  "language_info": {
   "codemirror_mode": {
    "name": "ipython",
    "version": 3
   },
   "file_extension": ".py",
   "mimetype": "text/x-python",
   "name": "python",
   "nbconvert_exporter": "python",
   "pygments_lexer": "ipython3",
   "version": "3.8.5"
  }
 },
 "nbformat": 4,
 "nbformat_minor": 4
}
