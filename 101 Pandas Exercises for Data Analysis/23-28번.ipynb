{
 "cells": [
  {
   "cell_type": "markdown",
   "id": "f9f288ff",
   "metadata": {},
   "source": [
    "### 23. How to convert year-month string to dates corresponding to the 4th day of the month?\n",
    "- Change ser to dates that start with 4th of the respective months."
   ]
  },
  {
   "cell_type": "code",
   "execution_count": 16,
   "id": "14225b8f",
   "metadata": {},
   "outputs": [],
   "source": [
    "# Input\n",
    "import pandas as pd\n",
    "import numpy as np\n",
    "\n",
    "ser = pd.Series(['Jan 2010', 'Feb 2011', 'Mar 2012'])"
   ]
  },
  {
   "cell_type": "code",
   "execution_count": 17,
   "id": "8f0e58e9",
   "metadata": {},
   "outputs": [
    {
     "data": {
      "text/plain": [
       "0   2010-01-04\n",
       "1   2011-02-04\n",
       "2   2012-03-04\n",
       "dtype: datetime64[ns]"
      ]
     },
     "execution_count": 17,
     "metadata": {},
     "output_type": "execute_result"
    }
   ],
   "source": [
    "# Solution 1\n",
    "from dateutil.parser import parse\n",
    "\n",
    "# Parse the date\n",
    "ser_ts = ser.map(lambda x: parse(x))\n",
    "\n",
    "# Consturct date string sith date as 4\n",
    "ser_datestr = ser_ts.dt.year.astype('str') + '-' + ser_ts.dt.month.astype('str') + '-' + '04'\n",
    "\n",
    "# Format it\n",
    "[parse(i).strftime('%Y-%m-%d') for i in ser_datestr]\n",
    "\n",
    "# Solution 2\n",
    "ser.map(lambda x: parse('04' + x))"
   ]
  },
  {
   "cell_type": "markdown",
   "id": "d0dbbe3b",
   "metadata": {},
   "source": [
    "### 24. How to filter words that contain atleast 2 vowels from a series?\n",
    "- From ser, extract words that contain atleast 2 vowels.\n",
    "- get(a, b) : 첫번째 인자에 해당 찾고 싶은 딕셔너리 key 값 입력하고, 두번째 인자에는 첫번째 인자가 없을 경우 출력하고 싶은 값 입력. key값의 value 값 출력"
   ]
  },
  {
   "cell_type": "code",
   "execution_count": 18,
   "id": "2aa6df2c",
   "metadata": {},
   "outputs": [],
   "source": [
    "#Input\n",
    "\n",
    "ser = pd.Series(['Apple', 'Orange', 'Plan', 'Python', 'Money'])"
   ]
  },
  {
   "cell_type": "code",
   "execution_count": 19,
   "id": "94b376fc",
   "metadata": {},
   "outputs": [
    {
     "data": {
      "text/plain": [
       "0     Apple\n",
       "1    Orange\n",
       "4     Money\n",
       "dtype: object"
      ]
     },
     "execution_count": 19,
     "metadata": {},
     "output_type": "execute_result"
    }
   ],
   "source": [
    "# Solution\n",
    "\n",
    "from collections import Counter\n",
    "mask = ser.map(lambda x: sum([Counter(x.lower()).get(i, 0) for i in list('aeiou')]) >= 2)\n",
    "ser[mask]"
   ]
  },
  {
   "cell_type": "markdown",
   "id": "1d281c68",
   "metadata": {},
   "source": [
    "### 25. How to filter valid emails from a series?\n",
    "#### Extract the valid emails from the series emails. The regex pattern for valid emails is provided as reference.\n",
    "- [a-zA-Z] : 알파벳 모두\n",
    "- [0-9] : 숫자\n",
    "- Dot(.) : 정규 표현식의 Dot(.) 메타 문자는 줄바꿈 문자인 \\n을 제외한 모든 문자와 매치됨을 의미한다.\n",
    "- + : 반복\n"
   ]
  },
  {
   "cell_type": "code",
   "execution_count": 20,
   "id": "f7248c49",
   "metadata": {},
   "outputs": [],
   "source": [
    "# Input\n",
    "emails = pd.Series(['buying books at amazom.com', 'rameses@egypt.com', 'matt@t.co', 'narendra@modi.com'])"
   ]
  },
  {
   "cell_type": "code",
   "execution_count": 21,
   "id": "685beeee",
   "metadata": {},
   "outputs": [
    {
     "data": {
      "text/plain": [
       "['rameses@egypt.com', 'matt@t.co', 'narendra@modi.com']"
      ]
     },
     "execution_count": 21,
     "metadata": {},
     "output_type": "execute_result"
    }
   ],
   "source": [
    "# Solution 1 (as series of strings)\n",
    "import re\n",
    "pattern ='[A-Za-z0-9._%+-]+@[A-Za-z0-9.-]+\\\\.[A-Za-z]{2,4}'\n",
    "mask = emails.map(lambda x: bool(re.match(pattern, x)))\n",
    "emails[mask]\n",
    "\n",
    "# Solution 2 (as series of list)\n",
    "emails.str.findall(pattern, flags=re.IGNORECASE)\n",
    "\n",
    "# Solution 3 (as list)\n",
    "[x[0] for x in [re.findall(pattern, email) for email in emails] if len(x) > 0]"
   ]
  },
  {
   "cell_type": "markdown",
   "id": "3bd742b0",
   "metadata": {},
   "source": [
    "### 26. How to get the mean of a series grouped by another series?\n",
    "- Compute the mean of weights of each fruit."
   ]
  },
  {
   "cell_type": "code",
   "execution_count": 22,
   "id": "5dbe5e7d",
   "metadata": {},
   "outputs": [
    {
     "name": "stdout",
     "output_type": "stream",
     "text": [
      "[1.0, 2.0, 3.0, 4.0, 5.0, 6.0, 7.0, 8.0, 9.0, 10.0]\n",
      "['apple', 'apple', 'apple', 'apple', 'carrot', 'banana', 'banana', 'carrot', 'apple', 'banana']\n"
     ]
    }
   ],
   "source": [
    "# Input\n",
    "fruit = pd.Series(np.random.choice(['apple', 'banana', 'carrot'], 10))\n",
    "weights = pd.Series(np.linspace(1, 10, 10))\n",
    "print(weights.tolist())\n",
    "print(fruit.tolist())"
   ]
  },
  {
   "cell_type": "code",
   "execution_count": 23,
   "id": "96147a7b",
   "metadata": {},
   "outputs": [
    {
     "data": {
      "text/plain": [
       "apple     3.800000\n",
       "banana    7.666667\n",
       "carrot    6.500000\n",
       "dtype: float64"
      ]
     },
     "execution_count": 23,
     "metadata": {},
     "output_type": "execute_result"
    }
   ],
   "source": [
    "# Solution\n",
    "weights.groupby(fruit).mean()"
   ]
  },
  {
   "cell_type": "markdown",
   "id": "8d694748",
   "metadata": {},
   "source": [
    "### 27. How to compute the euclidean distance between two series?\n",
    "- Compute the euclidean distance between series (points) p and q, without using a packaged formula."
   ]
  },
  {
   "cell_type": "code",
   "execution_count": 24,
   "id": "c3580d5f",
   "metadata": {},
   "outputs": [],
   "source": [
    "# Input\n",
    "p = pd.Series([1, 2, 3, 4, 5, 6, 7, 8, 9, 10])\n",
    "q = pd.Series([10, 9, 8, 7, 6, 5, 4, 3, 2, 1])"
   ]
  },
  {
   "cell_type": "code",
   "execution_count": 25,
   "id": "262a87af",
   "metadata": {},
   "outputs": [
    {
     "data": {
      "text/plain": [
       "18.16590212458495"
      ]
     },
     "execution_count": 25,
     "metadata": {},
     "output_type": "execute_result"
    }
   ],
   "source": [
    "# Solution\n",
    "sum((p - q)**2)**.5"
   ]
  },
  {
   "cell_type": "markdown",
   "id": "5043797c",
   "metadata": {},
   "source": [
    "### 28. How to find all the local maxima (or peaks) in a numeric series?\n",
    "#### Get the positions of peaks (values surrounded by smaller values on both sides) in ser.\n",
    "- np.sign() :양수이면 1 음수면 -1, 0이면 0으로 만들어준다.\n",
    "- 배열 원소 간 n차 차분 구하기 : np.diff()\n",
    "- b = [3,4,5,6,7]\n",
    "- np.where(6 == c)\n",
    "- ->(array([3]),)\n",
    "- np.where(6 == c)[0]\n",
    "- ->array([3])\n",
    "- np.where(6 == c)[0][0]\n",
    "- ->3"
   ]
  },
  {
   "cell_type": "code",
   "execution_count": 26,
   "id": "fe8425ba",
   "metadata": {},
   "outputs": [],
   "source": [
    "# Input\n",
    "ser = pd.Series([2, 10, 3, 4, 9, 10, 2, 7, 3])"
   ]
  },
  {
   "cell_type": "code",
   "execution_count": 27,
   "id": "80b75671",
   "metadata": {},
   "outputs": [
    {
     "data": {
      "text/plain": [
       "array([1, 5, 7], dtype=int64)"
      ]
     },
     "execution_count": 27,
     "metadata": {},
     "output_type": "execute_result"
    }
   ],
   "source": [
    "# Solution\n",
    "dd = np.diff(np.sign(np.diff(ser)))\n",
    "peak_locs = np.where(dd == -2)[0] + 1\n",
    "peak_locs"
   ]
  }
 ],
 "metadata": {
  "kernelspec": {
   "display_name": "Python 3",
   "language": "python",
   "name": "python3"
  },
  "language_info": {
   "codemirror_mode": {
    "name": "ipython",
    "version": 3
   },
   "file_extension": ".py",
   "mimetype": "text/x-python",
   "name": "python",
   "nbconvert_exporter": "python",
   "pygments_lexer": "ipython3",
   "version": "3.8.8"
  }
 },
 "nbformat": 4,
 "nbformat_minor": 5
}
