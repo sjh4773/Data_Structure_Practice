{
  "nbformat": 4,
  "nbformat_minor": 0,
  "metadata": {
    "colab": {
      "name": "29-33번.ipynb",
      "provenance": []
    },
    "kernelspec": {
      "name": "python3",
      "display_name": "Python 3"
    },
    "language_info": {
      "name": "python"
    }
  },
  "cells": [
    {
      "cell_type": "markdown",
      "metadata": {
        "id": "d2UM2bHzfFcd"
      },
      "source": [
        "### 29. How to replace missing spaces in a string with the least frequent character?\n",
        "- Replace the spaces in my_str with the least frequent character."
      ]
    },
    {
      "cell_type": "code",
      "metadata": {
        "id": "z_ozxEcifH00"
      },
      "source": [
        "# input\n",
        "\n",
        "import pandas as pd\n",
        "\n",
        "# Input\n",
        "my_str = 'dbc deb abed gade'"
      ],
      "execution_count": 2,
      "outputs": []
    },
    {
      "cell_type": "code",
      "metadata": {
        "colab": {
          "base_uri": "https://localhost:8080/",
          "height": 179
        },
        "id": "DvjZlZ7MfG6U",
        "outputId": "83e5efe2-14b5-4720-c8b5-f1639c8aed73"
      },
      "source": [
        "# Solution\n",
        "ser = pd.Series(list('dbc deb abed gade'))\n",
        "freq = ser.value_counts()\n",
        "print(freq)\n",
        "least_freq = freq.dropna().index[-1]\n",
        "\"\".join(ser.replace(' ', least_freq))"
      ],
      "execution_count": 4,
      "outputs": [
        {
          "output_type": "stream",
          "text": [
            "d    4\n",
            "     3\n",
            "b    3\n",
            "e    3\n",
            "a    2\n",
            "g    1\n",
            "c    1\n",
            "dtype: int64\n"
          ],
          "name": "stdout"
        },
        {
          "output_type": "execute_result",
          "data": {
            "application/vnd.google.colaboratory.intrinsic+json": {
              "type": "string"
            },
            "text/plain": [
              "'dbccdebcabedcgade'"
            ]
          },
          "metadata": {
            "tags": []
          },
          "execution_count": 4
        }
      ]
    },
    {
      "cell_type": "markdown",
      "metadata": {
        "id": "N9fGLuTTfGBE"
      },
      "source": [
        "### 30. How to create a TimeSeries starting ‘2000-01-01’ and 10 weekends (saturdays) after that having random numbers as values?"
      ]
    },
    {
      "cell_type": "code",
      "metadata": {
        "colab": {
          "base_uri": "https://localhost:8080/"
        },
        "id": "qqBsqq13fHWM",
        "outputId": "75acc855-bc66-4996-eb6f-4dbac14b40d0"
      },
      "source": [
        "# Solution\n",
        "import numpy as np\n",
        "ser = pd.Series(np.random.randint(1,10,10), pd.date_range('2000-01-01', periods=10, freq='W-SAT'))\n",
        "ser"
      ],
      "execution_count": 7,
      "outputs": [
        {
          "output_type": "execute_result",
          "data": {
            "text/plain": [
              "2000-01-01    2\n",
              "2000-01-08    2\n",
              "2000-01-15    2\n",
              "2000-01-22    9\n",
              "2000-01-29    6\n",
              "2000-02-05    4\n",
              "2000-02-12    6\n",
              "2000-02-19    2\n",
              "2000-02-26    2\n",
              "2000-03-04    1\n",
              "Freq: W-SAT, dtype: int64"
            ]
          },
          "metadata": {
            "tags": []
          },
          "execution_count": 7
        }
      ]
    },
    {
      "cell_type": "markdown",
      "metadata": {
        "id": "dXPUOwyVfGRM"
      },
      "source": [
        "### 31. How to fill an intermittent time series so all missing dates show up with values of previous non-missing date?\n",
        "- ser has missing dates and values. Make all missing dates appear and fill up with value from previous date.\n",
        "\n"
      ]
    },
    {
      "cell_type": "code",
      "metadata": {
        "colab": {
          "base_uri": "https://localhost:8080/"
        },
        "id": "DPc3R4SufIS9",
        "outputId": "a8fdb4a1-7ae0-42e3-967d-f764ff6bbac4"
      },
      "source": [
        "# Input\n",
        "ser = pd.Series([1,10,3,np.nan], index=pd.to_datetime(['2000-01-01', '2000-01-03', '2000-01-06', '2000-01-08']))\n",
        "print(ser)"
      ],
      "execution_count": 8,
      "outputs": [
        {
          "output_type": "stream",
          "text": [
            "2000-01-01     1.0\n",
            "2000-01-03    10.0\n",
            "2000-01-06     3.0\n",
            "2000-01-08     NaN\n",
            "dtype: float64\n"
          ],
          "name": "stdout"
        }
      ]
    },
    {
      "cell_type": "code",
      "metadata": {
        "colab": {
          "base_uri": "https://localhost:8080/"
        },
        "id": "-lSFkbWdfIW7",
        "outputId": "15ac1bc7-ce5a-477a-f212-976be50ef6ab"
      },
      "source": [
        "# Solution\n",
        "ser.resample('D').ffill()"
      ],
      "execution_count": 9,
      "outputs": [
        {
          "output_type": "execute_result",
          "data": {
            "text/plain": [
              "2000-01-01     1.0\n",
              "2000-01-02     1.0\n",
              "2000-01-03    10.0\n",
              "2000-01-04    10.0\n",
              "2000-01-05    10.0\n",
              "2000-01-06     3.0\n",
              "2000-01-07     3.0\n",
              "2000-01-08     NaN\n",
              "Freq: D, dtype: float64"
            ]
          },
          "metadata": {
            "tags": []
          },
          "execution_count": 9
        }
      ]
    },
    {
      "cell_type": "markdown",
      "metadata": {
        "id": "qCQ8fj79fGZl"
      },
      "source": [
        "### 32. How to compute the autocorrelations of a numeric series?\n",
        "- Compute autocorrelations for the first 10 lags of ser. Find out which lag has the largest correlation."
      ]
    },
    {
      "cell_type": "code",
      "metadata": {
        "id": "iv5iphbDfI6F"
      },
      "source": [
        "# Input\n",
        "\n",
        "ser = pd.Series(np.arange(20) + np.random.normal(1, 10, 20))"
      ],
      "execution_count": 11,
      "outputs": []
    },
    {
      "cell_type": "code",
      "metadata": {
        "colab": {
          "base_uri": "https://localhost:8080/"
        },
        "id": "HvEuuy48fI8z",
        "outputId": "e2e98f9f-49c1-4f4b-efce-b2f41aee0415"
      },
      "source": [
        "# Solution\n",
        "autocorrelations = [ser.autocorr(i).round(2) for i in range(11)]\n",
        "print(autocorrelations[1:])\n",
        "print('Lag having highest correlation: ',np.argmax(np.abs(autocorrelations[1:]))+1)"
      ],
      "execution_count": 12,
      "outputs": [
        {
          "output_type": "stream",
          "text": [
            "[0.23, 0.3, 0.49, 0.21, 0.58, 0.11, 0.32, 0.34, -0.33, 0.72]\n",
            "Lag having highest correlation:  10\n"
          ],
          "name": "stdout"
        }
      ]
    },
    {
      "cell_type": "markdown",
      "metadata": {
        "id": "wSZlc5x8fGhL"
      },
      "source": [
        "\n",
        "### 33. How to import only every nth row from a csv file to create a dataframe?\n",
        "- Import every 50th row of BostonHousing dataset as a dataframe."
      ]
    },
    {
      "cell_type": "code",
      "metadata": {
        "id": "MrWHcZDxfJos"
      },
      "source": [
        "# Solution\n",
        "df = pd.read_csv('https://raw.githubusercontent.com/selva86/datasets/master/BostonHousing.csv', chunksize=50)\n",
        "df2 = pd.DataFrame()\n",
        "for chunk in df:\n",
        "    df2 = df2.append(chunk.iloc[0,:])"
      ],
      "execution_count": 13,
      "outputs": []
    }
  ]
}