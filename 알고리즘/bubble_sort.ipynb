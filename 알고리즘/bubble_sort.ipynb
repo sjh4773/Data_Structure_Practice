{
 "cells": [
  {
   "cell_type": "markdown",
   "id": "0583a81d",
   "metadata": {},
   "source": [
    "# 버블 정렬 (bubble sort)란?\n",
    "- 두 인접한 데이터를 비교해서, 앞에 있는 데이터가 뒤에 있는 데이터보다 크면, 자리를 바꾸는 정렬 알고리즘"
   ]
  },
  {
   "cell_type": "markdown",
   "id": "36e437fd",
   "metadata": {},
   "source": [
    "- 특이점 찾아보기\n",
    "    - n개의 리스트가 있는 경우 최대 n-1번의 로직을 적용한다.\n",
    "    - 로직을 1번 적용할 때마다 가장 큰 숫자가 뒤에서부터 1개씩 결정된다.\n",
    "    - 로직의 경우에 따라 일찍 끝날 수도 있다. 따라서 로직을 적용할 때 한 번도 데이터가 교환된 적이 없다면\n",
    "      이미 정렬된 상태이므로 더 이상 로직을 반복 적용할 필요가 없다.\n",
    "      \n",
    "1. for num in range(len(data_list)) 반복\n",
    "2. swap = 0 (교환이 되었는지 확인하는 변수를 둔다.)\n",
    "3. 반복문 안에서, for index in range(len(data_list) - num - 1) n - 1번 반복해야 하므로\n",
    "4. 반복문안의 반복문 안에서, if data_list[index] > data_list[index + 1]이면\n",
    "5. data_list[index],data_list[index + 1] = data_list[index + 1], data_list[index]\n",
    "6. swap += 1\n",
    "7. 반복문 안에서, if swap == 0 이면, break 끝"
   ]
  },
  {
   "cell_type": "code",
   "execution_count": 14,
   "id": "4a965a36",
   "metadata": {},
   "outputs": [],
   "source": [
    "import random\n",
    "data_list = random.sample(range(100), 50)"
   ]
  },
  {
   "cell_type": "code",
   "execution_count": 15,
   "id": "9163f58e",
   "metadata": {},
   "outputs": [],
   "source": [
    "def bubble_sort(data_list):\n",
    "    for index in range(len(data_list)):\n",
    "        swap = 0\n",
    "        for index2 in range(len(data_list) - 1 - index):\n",
    "            if data_list[index2] > data_list[index2 + 1]:\n",
    "                data_list[index2],data_list[index2 + 1] = data_list[index2 + 1],data_list[index2]\n",
    "                swap += 1\n",
    "        if swap == 0:\n",
    "            break\n",
    "    return data_list"
   ]
  },
  {
   "cell_type": "code",
   "execution_count": 17,
   "id": "fbb99073",
   "metadata": {},
   "outputs": [
    {
     "data": {
      "text/plain": [
       "[2,\n",
       " 11,\n",
       " 13,\n",
       " 14,\n",
       " 15,\n",
       " 16,\n",
       " 21,\n",
       " 22,\n",
       " 23,\n",
       " 27,\n",
       " 28,\n",
       " 29,\n",
       " 32,\n",
       " 34,\n",
       " 35,\n",
       " 37,\n",
       " 40,\n",
       " 41,\n",
       " 42,\n",
       " 45,\n",
       " 48,\n",
       " 49,\n",
       " 50,\n",
       " 51,\n",
       " 52,\n",
       " 53,\n",
       " 55,\n",
       " 56,\n",
       " 57,\n",
       " 59,\n",
       " 60,\n",
       " 65,\n",
       " 67,\n",
       " 68,\n",
       " 69,\n",
       " 72,\n",
       " 73,\n",
       " 74,\n",
       " 77,\n",
       " 79,\n",
       " 80,\n",
       " 81,\n",
       " 83,\n",
       " 84,\n",
       " 87,\n",
       " 88,\n",
       " 89,\n",
       " 90,\n",
       " 91,\n",
       " 97]"
      ]
     },
     "execution_count": 17,
     "metadata": {},
     "output_type": "execute_result"
    }
   ],
   "source": [
    "bubble_sort(data_list)"
   ]
  },
  {
   "cell_type": "markdown",
   "id": "092a3321",
   "metadata": {},
   "source": [
    "출처 : https://www.fun-coding.org/Chapter12-bubblesorting.html"
   ]
  }
 ],
 "metadata": {
  "kernelspec": {
   "display_name": "Python 3",
   "language": "python",
   "name": "python3"
  },
  "language_info": {
   "codemirror_mode": {
    "name": "ipython",
    "version": 3
   },
   "file_extension": ".py",
   "mimetype": "text/x-python",
   "name": "python",
   "nbconvert_exporter": "python",
   "pygments_lexer": "ipython3",
   "version": "3.8.8"
  }
 },
 "nbformat": 4,
 "nbformat_minor": 5
}
